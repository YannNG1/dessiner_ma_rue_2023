{
 "cells": [
  {
   "cell_type": "code",
   "execution_count": 4,
   "metadata": {},
   "outputs": [
    {
     "data": {
      "application/vnd.jupyter.widget-view+json": {
       "model_id": "c5e0df9216df4f60ada9f210c7c35e64",
       "version_major": 2,
       "version_minor": 0
      },
      "text/plain": [
       "Canvas(height=400, width=800)"
      ]
     },
     "metadata": {},
     "output_type": "display_data"
    },
    {
     "ename": "NameError",
     "evalue": "name 'rue' is not defined",
     "output_type": "error",
     "traceback": [
      "\u001b[0;31m---------------------------------------------------------------------------\u001b[0m",
      "\u001b[0;31mNameError\u001b[0m                                 Traceback (most recent call last)",
      "File \u001b[0;32m/workspace/dessiner_ma_rue_2023/sol.py:22\u001b[0m\n\u001b[1;32m     19\u001b[0m \u001b[39mif\u001b[39;00m \u001b[39m__name__\u001b[39m \u001b[39m==\u001b[39m \u001b[39m'\u001b[39m\u001b[39m__main__\u001b[39m\u001b[39m'\u001b[39m:\n\u001b[1;32m     20\u001b[0m     \u001b[39m# Tests\u001b[39;00m\n\u001b[1;32m     21\u001b[0m     affiche(rue)\n\u001b[0;32m---> 22\u001b[0m     sol()\n",
      "File \u001b[0;32m/workspace/dessiner_ma_rue_2023/sol.py:16\u001b[0m, in \u001b[0;36msol\u001b[0;34m()\u001b[0m\n\u001b[1;32m      8\u001b[0m \u001b[39m\u001b[39m\u001b[39m'''\u001b[39;00m\n\u001b[1;32m      9\u001b[0m \u001b[39mTrace une ligne horizontale au niveau du sol de la rue\u001b[39;00m\n\u001b[1;32m     10\u001b[0m \u001b[39md'épaisseur 3 pixels et de longueur 760 pixels\u001b[39;00m\n\u001b[1;32m     11\u001b[0m \u001b[39mcentrée dans le canvas\u001b[39;00m\n\u001b[1;32m     12\u001b[0m \u001b[39m        \u001b[39;00m\n\u001b[1;32m     13\u001b[0m \u001b[39m'''\u001b[39;00m\n\u001b[1;32m     15\u001b[0m y_sol \u001b[39m=\u001b[39m rue\u001b[39m.\u001b[39mheight\u001b[39m-\u001b[39m\u001b[39m1\u001b[39m \u001b[39m# ordonnée du sol de la rue\u001b[39;00m\n\u001b[0;32m---> 16\u001b[0m trait(\u001b[39m70\u001b[39;49m,y_sol,\u001b[39m-\u001b[39;49m\u001b[39m70\u001b[39;49m,y_sol)\n",
      "File \u001b[0;32m/workspace/dessiner_ma_rue_2023/trait.py:12\u001b[0m, in \u001b[0;36mtrait\u001b[0;34m(x1, y1, x2, y2)\u001b[0m\n\u001b[1;32m      4\u001b[0m \u001b[39mdef\u001b[39;00m \u001b[39mtrait\u001b[39m(x1,y1,x2,y2):\n\u001b[1;32m      5\u001b[0m \u001b[39m    \u001b[39m\u001b[39m'''\u001b[39;00m\n\u001b[1;32m      6\u001b[0m \u001b[39m    dessine un trait entre les 2 points transmis en paramètres\u001b[39;00m\n\u001b[1;32m      7\u001b[0m \u001b[39m    Paramètres\u001b[39;00m\n\u001b[0;32m   (...)\u001b[0m\n\u001b[1;32m     10\u001b[0m \u001b[39m    \u001b[39;00m\n\u001b[1;32m     11\u001b[0m \u001b[39m    '''\u001b[39;00m\n\u001b[0;32m---> 12\u001b[0m     rue\u001b[39m.\u001b[39mstroke_style \u001b[39m=\u001b[39m \u001b[39m'\u001b[39m\u001b[39mblack\u001b[39m\u001b[39m'\u001b[39m\n\u001b[1;32m     13\u001b[0m     rue\u001b[39m.\u001b[39mstroke_line(x1, y1, x2, y2)\n",
      "\u001b[0;31mNameError\u001b[0m: name 'rue' is not defined"
     ]
    }
   ],
   "source": [
    "%run sol.py"
   ]
  },
  {
   "cell_type": "code",
   "execution_count": 3,
   "metadata": {},
   "outputs": [
    {
     "data": {
      "application/vnd.jupyter.widget-view+json": {
       "model_id": "c5e0df9216df4f60ada9f210c7c35e64",
       "version_major": 2,
       "version_minor": 0
      },
      "text/plain": [
       "Canvas(height=400, width=800)"
      ]
     },
     "metadata": {},
     "output_type": "display_data"
    }
   ],
   "source": [
    "affiche(rue)"
   ]
  },
  {
   "cell_type": "code",
   "execution_count": 167,
   "metadata": {},
   "outputs": [],
   "source": [
    "toit1(360,5)"
   ]
  }
 ],
 "metadata": {
  "kernelspec": {
   "display_name": "Python 3",
   "language": "python",
   "name": "python3"
  },
  "language_info": {
   "codemirror_mode": {
    "name": "ipython",
    "version": 3
   },
   "file_extension": ".py",
   "mimetype": "text/x-python",
   "name": "python",
   "nbconvert_exporter": "python",
   "pygments_lexer": "ipython3",
   "version": "3.8.16"
  },
  "orig_nbformat": 4,
  "vscode": {
   "interpreter": {
    "hash": "9ac03a0a6051494cc606d484d27d20fce22fb7b4d169f583271e11d5ba46a56e"
   }
  }
 },
 "nbformat": 4,
 "nbformat_minor": 2
}
